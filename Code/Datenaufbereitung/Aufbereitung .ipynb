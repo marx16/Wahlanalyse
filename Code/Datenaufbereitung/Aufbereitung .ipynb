{
 "cells": [
  {
   "cell_type": "code",
   "execution_count": 3,
   "metadata": {},
   "outputs": [],
   "source": [
    "import pandas as pd\n",
    "import numpy as np"
   ]
  },
  {
   "cell_type": "code",
   "execution_count": 4,
   "metadata": {},
   "outputs": [],
   "source": [
    "def conv(x):\n",
    "    temp = x.rstrip('%')\n",
    "    temp = temp.replace(',', '.')\n",
    "    return float(temp)\n",
    "\n",
    "# geht nur ohne NAs"
   ]
  },
  {
   "cell_type": "code",
   "execution_count": 5,
   "metadata": {},
   "outputs": [],
   "source": [
    "muenchen_nord = pd.read_csv('../../Daten/muenchen_nord.txt', sep = ';')\n",
    "maxvorstadt = pd.read_csv('../../Daten/Stadtbezirke/maxvorstadt.txt', sep = ';')\n",
    "schwabing_west = pd.read_csv('../../Daten/Stadtbezirke/schwabing_west.txt', sep = ';')\n",
    "freimann = pd.read_csv('../../Daten/Stadtbezirke/schwabing_freimann.txt', sep = ';')\n",
    "milbertshofen = pd.read_csv('../../Daten/Stadtbezirke/milbertshofen_amhart.txt', sep = ';')\n",
    "moosach = pd.read_csv('../../Daten/Stadtbezirke/moosach.txt', sep = ';')\n",
    "hasenbergl = pd.read_csv('../../Daten/Stadtbezirke/feldmoching_hasenbergl.txt', sep = ';')"
   ]
  },
  {
   "cell_type": "markdown",
   "metadata": {},
   "source": [
    "## Erst- und Zweitstimmen `17"
   ]
  },
  {
   "cell_type": "code",
   "execution_count": 7,
   "metadata": {},
   "outputs": [],
   "source": [
    "Erst = pd.read_csv('../../Daten/erststimmen.csv', sep = ';', converters = {'Anteil SPD': conv, 'Anteil CSU': conv,'Anteil GRÜNE': conv, 'Anteil FDP': conv,\n",
    "                                                                            'Anteil AfD': conv, 'Anteil DIE LINKE': conv,\n",
    "                                                                            'Anteil FREIE WÄHLER': conv, 'Anteil ÖDP': conv, 'Anteil BP': conv, 'Anteil BüSo': conv})\n",
    "Zweit = pd.read_csv('../../Daten/zweitstimmen.csv', sep = ';', converters = {'Anteil SPD': conv, 'Anteil CSU': conv,'Anteil GRÜNE': conv, 'Anteil FDP': conv,\n",
    "                                                                            'Anteil AfD': conv, 'Anteil DIE LINKE': conv,\n",
    "                                                                            'Anteil FREIE WÄHLER': conv, 'Anteil ÖDP': conv, 'Anteil BP': conv, 'Anteil BüSo': conv,\n",
    "                                                                            'Anteil PIRATEN': conv, 'Anteil NPD': conv,\n",
    "                                                                            'Anteil Tierschutzpartei': conv, 'Anteil BGE': conv, 'Anteil DiB': conv,\n",
    "                                                                            'Anteil DKP': conv, 'Anteil DM': conv, })\n",
    "\n",
    "#nicht_relevant_erst = ['Gebietsartschlüssel', 'Stimmbezirksart', 'Wahlberechtigte ohne Wahlschein', 'Wähler mit Wahlschein',\n",
    "#                 'Ungültige Stimmen', 'Anzahl SPD', 'Anzahl CSU', 'Anzahl GRÜNE', 'Anzahl DIE LINKE', 'Anzahl FREIE WÄHLER',\n",
    "#                 'Anzahl ÖDP', 'Anzahl BP', 'Anzahl MLPD', 'Anzahl BüSo', 'Anzahl Die PARTEI', 'Anzahl BB', 'Anteil BB']\n",
    "\n",
    "relevant_erst = ['Gebietsnummer', 'Anteil CSU', 'Anteil SPD', 'Anteil GRÜNE', \n",
    "                'Anteil FDP', 'Anteil AfD', 'Anteil DIE LINKE']\n",
    "\n",
    "relevant_zweit = ['Gebietsnummer', 'Anteil CSU', 'Anteil SPD', 'Anteil GRÜNE', \n",
    "                'Anteil FDP', 'Anteil AfD', 'Anteil DIE LINKE']\n",
    "\n",
    "Erst = Erst[relevant_erst]\n",
    "Zweit = Zweit[relevant_zweit]\n",
    "\n",
    "\n",
    "muenchen_nord = pd.read_csv('../../Daten/muenchen_nord.txt', sep = ';')\n",
    "gebietsnummern = np.asarray(muenchen_nord['Name'])\n",
    "\n",
    "Erst = Erst[Erst['Gebietsnummer'].isin(gebietsnummern)]\n",
    "Zweit = Zweit[Zweit['Gebietsnummer'].isin(gebietsnummern)]\n",
    "\n",
    "Erst = Erst.rename(columns = {'Anteil SPD': 'SPD', 'Anteil CSU': 'CSU','Anteil GRÜNE': 'GRÜNE', 'Anteil FDP': 'FDP',\n",
    "                                                                        'Anteil AfD': 'AfD', 'Anteil DIE LINKE': 'DIE LINKE'})\n",
    "Zweit = Zweit.rename(columns = {'Anteil SPD': 'SPD', 'Anteil CSU': 'CSU','Anteil GRÜNE': 'GRÜNE', 'Anteil FDP': 'FDP',\n",
    "                                                                        'Anteil AfD': 'AfD', 'Anteil DIE LINKE': 'DIE LINKE'})"
   ]
  },
  {
   "cell_type": "code",
   "execution_count": 8,
   "metadata": {},
   "outputs": [],
   "source": [
    "Erst.to_csv('../../Daten/erststimmen_aufbereitet.csv', index = False)\n",
    "Zweit.to_csv('../../Daten/zweitstimmen_aufbereitet.csv', index = False)"
   ]
  },
  {
   "cell_type": "markdown",
   "metadata": {},
   "source": [
    "## Strukturindikatoren `17"
   ]
  },
  {
   "cell_type": "code",
   "execution_count": 159,
   "metadata": {},
   "outputs": [],
   "source": [
    "struktur = pd.read_csv('../../Daten/strukturindikatoren.txt', sep = ';')\n",
    "arbeitslose = pd.read_csv('../../Daten/arbeitslosendichte_17.txt', sep = ';')\n",
    "alg = pd.read_csv('../../Daten/alg_empfängerdichte_17.txt', sep = ';')"
   ]
  },
  {
   "cell_type": "code",
   "execution_count": 160,
   "metadata": {},
   "outputs": [],
   "source": [
    "columns = struktur.columns[2::]\n",
    "for column in columns:\n",
    "    struktur[column] = struktur[column].apply(lambda x: conv(x))"
   ]
  },
  {
   "cell_type": "code",
   "execution_count": 161,
   "metadata": {},
   "outputs": [],
   "source": [
    "struktur.drop(struktur.tail(1).index,inplace=True) # drop last n rows\n",
    "struktur['Wahlbezirk'] = struktur['Wahlbezirk'].apply(lambda x: conv(x))"
   ]
  },
  {
   "cell_type": "code",
   "execution_count": 162,
   "metadata": {},
   "outputs": [],
   "source": [
    "struktur = struktur[struktur['Wahlbezirk'].isin(gebietsnummern)]\n",
    "struktur['Wahlbezirk'] = struktur['Wahlbezirk'].apply(lambda x: int(x))"
   ]
  },
  {
   "cell_type": "code",
   "execution_count": 183,
   "metadata": {},
   "outputs": [],
   "source": [
    "struktur = struktur.reset_index(drop = True)\n",
    "struktur = struktur.rename(columns = {'Wahlbezirk': 'Gebietsnummer'})"
   ]
  },
  {
   "cell_type": "code",
   "execution_count": 165,
   "metadata": {},
   "outputs": [],
   "source": [
    "# SV-Beschäftigtendichte\n",
    "struktur['SV-Beschäftigtendichte'] = 0\n",
    "struktur.loc[struktur['Gebietsnummer'].isin(np.array(maxvorstadt.Name)), \n",
    "             'SV-Beschäftigtendichte'] = arbeitslose.loc[\n",
    "    arbeitslose['Stadtbezirk'] == '03 Maxvorstadt', 'SV-Beschäftigtendichte'].iloc[0]\n",
    "struktur.loc[struktur['Gebietsnummer'].isin(np.array(schwabing_west.Name)), \n",
    "             'SV-Beschäftigtendichte'] = arbeitslose.loc[\n",
    "    arbeitslose['Stadtbezirk'] == '04 Schwabing - West', 'SV-Beschäftigtendichte'].iloc[0]\n",
    "struktur.loc[struktur['Gebietsnummer'].isin(np.array(moosach.Name)), \n",
    "             'SV-Beschäftigtendichte'] = arbeitslose.loc[\n",
    "    arbeitslose['Stadtbezirk'] == '10 Moosach', 'SV-Beschäftigtendichte'].iloc[0]\n",
    "struktur.loc[struktur['Gebietsnummer'].isin(np.array(milbertshofen.Name)), \n",
    "             'SV-Beschäftigtendichte'] = arbeitslose.loc[\n",
    "    arbeitslose['Stadtbezirk'] == '11 Milbertshofen -  Am Hart', 'SV-Beschäftigtendichte'].iloc[0]\n",
    "struktur.loc[struktur['Gebietsnummer'].isin(np.array(freimann.Name)), \n",
    "             'SV-Beschäftigtendichte'] = arbeitslose.loc[\n",
    "    arbeitslose['Stadtbezirk'] == '12 Schwabing -  Freimann', 'SV-Beschäftigtendichte'].iloc[0]\n",
    "struktur.loc[struktur['Gebietsnummer'].isin(np.array(hasenbergl.Name)), \n",
    "             'SV-Beschäftigtendichte'] = arbeitslose.loc[\n",
    "    arbeitslose['Stadtbezirk'] == '24 Feldmoching - Hasenbergl', 'SV-Beschäftigtendichte'].iloc[0]\n",
    "\n",
    "# Arbeitslosendichte\n",
    "struktur['Arbeitslosendichte'] = 0\n",
    "struktur.loc[struktur['Gebietsnummer'].isin(np.array(maxvorstadt.Name)), \n",
    "             'Arbeitslosendichte'] = arbeitslose.loc[\n",
    "    arbeitslose['Stadtbezirk'] == '03 Maxvorstadt', 'Arbeitslosendichte'].iloc[0]\n",
    "struktur.loc[struktur['Gebietsnummer'].isin(np.array(schwabing_west.Name)), \n",
    "             'Arbeitslosendichte'] = arbeitslose.loc[\n",
    "    arbeitslose['Stadtbezirk'] == '04 Schwabing - West', 'Arbeitslosendichte'].iloc[0]\n",
    "struktur.loc[struktur['Gebietsnummer'].isin(np.array(moosach.Name)), \n",
    "             'Arbeitslosendichte'] = arbeitslose.loc[\n",
    "    arbeitslose['Stadtbezirk'] == '10 Moosach', 'Arbeitslosendichte'].iloc[0]\n",
    "struktur.loc[struktur['Gebietsnummer'].isin(np.array(milbertshofen.Name)), \n",
    "             'Arbeitslosendichte'] = arbeitslose.loc[\n",
    "    arbeitslose['Stadtbezirk'] == '11 Milbertshofen -  Am Hart', 'Arbeitslosendichte'].iloc[0]\n",
    "struktur.loc[struktur['Gebietsnummer'].isin(np.array(freimann.Name)), \n",
    "             'Arbeitslosendichte'] = arbeitslose.loc[\n",
    "    arbeitslose['Stadtbezirk'] == '12 Schwabing -  Freimann', 'Arbeitslosendichte'].iloc[0]\n",
    "struktur.loc[struktur['Gebietsnummer'].isin(np.array(hasenbergl.Name)), \n",
    "             'Arbeitslosendichte'] = arbeitslose.loc[\n",
    "    arbeitslose['Stadtbezirk'] == '24 Feldmoching - Hasenbergl', 'Arbeitslosendichte'].iloc[0]\n",
    "\n",
    "# ALG II - Empfängerdichte\n",
    "struktur['ALG II - Empfängerdichte'] = 0\n",
    "struktur.loc[struktur['Gebietsnummer'].isin(np.array(maxvorstadt.Name)), \n",
    "             'ALG II - Empfängerdichte'] = alg.loc[\n",
    "    alg['Stadtbezirk'] == '03 Maxvorstadt', 'ALG II - Empfängerdichte'].iloc[0]\n",
    "struktur.loc[struktur['Gebietsnummer'].isin(np.array(schwabing_west.Name)), \n",
    "             'ALG II - Empfängerdichte'] = alg.loc[\n",
    "    alg['Stadtbezirk'] == '04 Schwabing - West', 'ALG II - Empfängerdichte'].iloc[0]\n",
    "struktur.loc[struktur['Gebietsnummer'].isin(np.array(moosach.Name)), \n",
    "             'ALG II - Empfängerdichte'] = alg.loc[\n",
    "    alg['Stadtbezirk'] == '10 Moosach', 'ALG II - Empfängerdichte'].iloc[0]\n",
    "struktur.loc[struktur['Gebietsnummer'].isin(np.array(milbertshofen.Name)), \n",
    "             'ALG II - Empfängerdichte'] = alg.loc[\n",
    "    alg['Stadtbezirk'] == '11 Milbertshofen -  Am Hart', 'ALG II - Empfängerdichte'].iloc[0]\n",
    "struktur.loc[struktur['Gebietsnummer'].isin(np.array(freimann.Name)), \n",
    "             'ALG II - Empfängerdichte'] = alg.loc[\n",
    "    alg['Stadtbezirk'] == '12 Schwabing -  Freimann', 'ALG II - Empfängerdichte'].iloc[0]\n",
    "struktur.loc[struktur['Gebietsnummer'].isin(np.array(hasenbergl.Name)), \n",
    "             'ALG II - Empfängerdichte'] = alg.loc[\n",
    "    alg['Stadtbezirk'] == '24 Feldmoching - Hasenbergl', 'ALG II - Empfängerdichte'].iloc[0]"
   ]
  },
  {
   "cell_type": "code",
   "execution_count": 128,
   "metadata": {},
   "outputs": [],
   "source": [
    "struktur.to_csv('../../Daten/strukturindikatoren.csv')"
   ]
  },
  {
   "cell_type": "markdown",
   "metadata": {},
   "source": [
    "## Strukturindikatoren `19"
   ]
  },
  {
   "cell_type": "code",
   "execution_count": 173,
   "metadata": {},
   "outputs": [],
   "source": [
    "struktur = pd.read_csv('../../Daten/strukturindikatoren_19_raw.csv', sep = ';')\n",
    "struktur = struktur.drop(columns = ['SV-Beschäftigtendichte', 'Arbeitslosendichte',\n",
    "                                   'Erwerbsfähige Leistungsberechtigtendichte', 'Gebietsartschlüssel'])\n",
    "struktur = struktur.loc[struktur['Gebietsnummer'].isin(np.array(muenchen_nord.Name))]\n",
    "arbeitslose = pd.read_csv('../../Daten/stadtbezirke_struktur_19.csv', sep = ';')\n",
    "arbeitslose = arbeitslose.dropna()\n",
    "arbeitslose['SV-Beschäftigtendichte'] = arbeitslose['SV-Beschäftigtendichte'].apply(lambda x: conv(x))\n",
    "arbeitslose['Arbeitslosendichte'] = arbeitslose['Arbeitslosendichte'].apply(lambda x: conv(x))\n",
    "arbeitslose['Erwerbsfähige Leistungsberechtigtendichte'] = arbeitslose[\n",
    "    'Erwerbsfähige Leistungsberechtigtendichte'].apply(lambda x: conv(x))\n",
    "arbeitslose = arbeitslose.rename(columns = {'Gebietsnummer': 'Stadtbezirk'})"
   ]
  },
  {
   "cell_type": "code",
   "execution_count": 174,
   "metadata": {},
   "outputs": [],
   "source": [
    "columns = struktur.columns[2::]\n",
    "for column in columns:\n",
    "    struktur[column] = struktur[column].apply(lambda x: conv(x))"
   ]
  },
  {
   "cell_type": "code",
   "execution_count": 175,
   "metadata": {},
   "outputs": [],
   "source": [
    "arbeitslose['Stadtbezirk'] = arbeitslose['Stadtbezirk'].apply(lambda x: int(x))"
   ]
  },
  {
   "cell_type": "code",
   "execution_count": 179,
   "metadata": {},
   "outputs": [],
   "source": [
    "# SV-Beschäftigtendichte\n",
    "struktur['SV-Beschäftigtendichte'] = 0\n",
    "struktur.loc[struktur['Gebietsnummer'].isin(np.array(maxvorstadt.Name)), \n",
    "             'SV-Beschäftigtendichte'] = arbeitslose.loc[\n",
    "    arbeitslose['Stadtbezirk'] == 3, 'SV-Beschäftigtendichte'].iloc[0]\n",
    "struktur.loc[struktur['Gebietsnummer'].isin(np.array(schwabing_west.Name)), \n",
    "             'SV-Beschäftigtendichte'] = arbeitslose.loc[\n",
    "    arbeitslose['Stadtbezirk'] == 4, 'SV-Beschäftigtendichte'].iloc[0]\n",
    "struktur.loc[struktur['Gebietsnummer'].isin(np.array(moosach.Name)), \n",
    "             'SV-Beschäftigtendichte'] = arbeitslose.loc[\n",
    "    arbeitslose['Stadtbezirk'] == 10, 'SV-Beschäftigtendichte'].iloc[0]\n",
    "struktur.loc[struktur['Gebietsnummer'].isin(np.array(milbertshofen.Name)), \n",
    "             'SV-Beschäftigtendichte'] = arbeitslose.loc[\n",
    "    arbeitslose['Stadtbezirk'] == 11, 'SV-Beschäftigtendichte'].iloc[0]\n",
    "struktur.loc[struktur['Gebietsnummer'].isin(np.array(freimann.Name)), \n",
    "             'SV-Beschäftigtendichte'] = arbeitslose.loc[\n",
    "    arbeitslose['Stadtbezirk'] == 12, 'SV-Beschäftigtendichte'].iloc[0]\n",
    "struktur.loc[struktur['Gebietsnummer'].isin(np.array(hasenbergl.Name)), \n",
    "             'SV-Beschäftigtendichte'] = arbeitslose.loc[\n",
    "    arbeitslose['Stadtbezirk'] == 24, 'SV-Beschäftigtendichte'].iloc[0]\n",
    "\n",
    "# Arbeitslosendichte\n",
    "struktur['Arbeitslosendichte'] = 0\n",
    "struktur.loc[struktur['Gebietsnummer'].isin(np.array(maxvorstadt.Name)), \n",
    "             'Arbeitslosendichte'] = arbeitslose.loc[\n",
    "    arbeitslose['Stadtbezirk'] == 3, 'Arbeitslosendichte'].iloc[0]\n",
    "struktur.loc[struktur['Gebietsnummer'].isin(np.array(schwabing_west.Name)), \n",
    "             'Arbeitslosendichte'] = arbeitslose.loc[\n",
    "    arbeitslose['Stadtbezirk'] == 4, 'Arbeitslosendichte'].iloc[0]\n",
    "struktur.loc[struktur['Gebietsnummer'].isin(np.array(moosach.Name)), \n",
    "             'Arbeitslosendichte'] = arbeitslose.loc[\n",
    "    arbeitslose['Stadtbezirk'] == 10, 'Arbeitslosendichte'].iloc[0]\n",
    "struktur.loc[struktur['Gebietsnummer'].isin(np.array(milbertshofen.Name)), \n",
    "             'Arbeitslosendichte'] = arbeitslose.loc[\n",
    "    arbeitslose['Stadtbezirk'] == 11, 'Arbeitslosendichte'].iloc[0]\n",
    "struktur.loc[struktur['Gebietsnummer'].isin(np.array(freimann.Name)), \n",
    "             'Arbeitslosendichte'] = arbeitslose.loc[\n",
    "    arbeitslose['Stadtbezirk'] == 12, 'Arbeitslosendichte'].iloc[0]\n",
    "struktur.loc[struktur['Gebietsnummer'].isin(np.array(hasenbergl.Name)), \n",
    "             'Arbeitslosendichte'] = arbeitslose.loc[\n",
    "    arbeitslose['Stadtbezirk'] == 24, 'Arbeitslosendichte'].iloc[0]\n",
    "\n",
    "# Erwerbsfähige Leistungsberechtigtendichte\n",
    "struktur['Erwerbsfähige Leistungsberechtigtendichte'] = 0\n",
    "struktur.loc[struktur['Gebietsnummer'].isin(np.array(maxvorstadt.Name)), \n",
    "             'Erwerbsfähige Leistungsberechtigtendichte'] = arbeitslose.loc[\n",
    "    arbeitslose['Stadtbezirk'] == 3, 'Erwerbsfähige Leistungsberechtigtendichte'].iloc[0]\n",
    "struktur.loc[struktur['Gebietsnummer'].isin(np.array(schwabing_west.Name)), \n",
    "             'Erwerbsfähige Leistungsberechtigtendichte'] = arbeitslose.loc[\n",
    "    arbeitslose['Stadtbezirk'] == 4, 'Erwerbsfähige Leistungsberechtigtendichte'].iloc[0]\n",
    "struktur.loc[struktur['Gebietsnummer'].isin(np.array(moosach.Name)), \n",
    "             'Erwerbsfähige Leistungsberechtigtendichte'] = arbeitslose.loc[\n",
    "    arbeitslose['Stadtbezirk'] == 10, 'Erwerbsfähige Leistungsberechtigtendichte'].iloc[0]\n",
    "struktur.loc[struktur['Gebietsnummer'].isin(np.array(milbertshofen.Name)), \n",
    "             'Erwerbsfähige Leistungsberechtigtendichte'] = arbeitslose.loc[\n",
    "    arbeitslose['Stadtbezirk'] == 11, 'Erwerbsfähige Leistungsberechtigtendichte'].iloc[0]\n",
    "struktur.loc[struktur['Gebietsnummer'].isin(np.array(freimann.Name)), \n",
    "             'Erwerbsfähige Leistungsberechtigtendichte'] = arbeitslose.loc[\n",
    "    arbeitslose['Stadtbezirk'] == 12, 'Erwerbsfähige Leistungsberechtigtendichte'].iloc[0]\n",
    "struktur.loc[struktur['Gebietsnummer'].isin(np.array(hasenbergl.Name)), \n",
    "             'Erwerbsfähige Leistungsberechtigtendichte'] = arbeitslose.loc[\n",
    "    arbeitslose['Stadtbezirk'] == 24, 'Erwerbsfähige Leistungsberechtigtendichte'].iloc[0]"
   ]
  },
  {
   "cell_type": "code",
   "execution_count": 182,
   "metadata": {},
   "outputs": [],
   "source": [
    "struktur.to_csv('../../Daten/strukturindikatoren_19.csv')"
   ]
  },
  {
   "cell_type": "markdown",
   "metadata": {},
   "source": [
    "## Strukturindikatoren `14"
   ]
  },
  {
   "cell_type": "code",
   "execution_count": 228,
   "metadata": {},
   "outputs": [],
   "source": [
    "struktur = pd.read_csv('../../Daten/strukturindikatoren_14.txt', sep = ';')\n",
    "struktur = struktur.rename(columns = {'Wahlbezirk': 'Gebietsnummer'})\n",
    "struktur = struktur.loc[struktur['Gebietsnummer'].isin(np.array(muenchen_nord.Name))]\n",
    "arbeitslose = pd.read_csv('../../Daten/stadtbezirke_struktur_14.txt', sep = ';',\n",
    "                         converters = {'SV-Beschäftigtendichte': conv,\n",
    "                                       'Arbeitslosendichte': conv, 'ALG II- Empfaengerdichte': conv})\n",
    "arbeitslose = arbeitslose.rename(columns = {'Bezirk': 'Stadtbezirk'})"
   ]
  },
  {
   "cell_type": "code",
   "execution_count": 229,
   "metadata": {},
   "outputs": [],
   "source": [
    "columns = struktur.columns[2::]\n",
    "for column in columns:\n",
    "    struktur[column] = struktur[column].apply(lambda x: conv(x))"
   ]
  },
  {
   "cell_type": "code",
   "execution_count": 230,
   "metadata": {},
   "outputs": [],
   "source": [
    "# SV-Beschäftigtendichte\n",
    "struktur['SV-Beschäftigtendichte'] = 0\n",
    "struktur.loc[struktur['Gebietsnummer'].isin(np.array(maxvorstadt.Name)), \n",
    "             'SV-Beschäftigtendichte'] = arbeitslose.loc[\n",
    "    arbeitslose['Stadtbezirk'] == '03 Maxvorstadt', 'SV-Beschaeftigtendichte'].iloc[0]\n",
    "struktur.loc[struktur['Gebietsnummer'].isin(np.array(schwabing_west.Name)), \n",
    "             'SV-Beschäftigtendichte'] = arbeitslose.loc[\n",
    "    arbeitslose['Stadtbezirk'] == '04 Schwabing West', 'SV-Beschaeftigtendichte'].iloc[0]\n",
    "struktur.loc[struktur['Gebietsnummer'].isin(np.array(moosach.Name)), \n",
    "             'SV-Beschäftigtendichte'] = arbeitslose.loc[\n",
    "    arbeitslose['Stadtbezirk'] == '10 Moosach', 'SV-Beschaeftigtendichte'].iloc[0]\n",
    "struktur.loc[struktur['Gebietsnummer'].isin(np.array(milbertshofen.Name)), \n",
    "             'SV-Beschäftigtendichte'] = arbeitslose.loc[\n",
    "    arbeitslose['Stadtbezirk'] == '11 Milbertshofen -  Am Hart', 'SV-Beschaeftigtendichte'].iloc[0]\n",
    "struktur.loc[struktur['Gebietsnummer'].isin(np.array(freimann.Name)), \n",
    "             'SV-Beschäftigtendichte'] = arbeitslose.loc[\n",
    "    arbeitslose['Stadtbezirk'] == '12 Schwabing -  Freimann', 'SV-Beschaeftigtendichte'].iloc[0]\n",
    "struktur.loc[struktur['Gebietsnummer'].isin(np.array(hasenbergl.Name)), \n",
    "             'SV-Beschäftigtendichte'] = arbeitslose.loc[\n",
    "    arbeitslose['Stadtbezirk'] == '24 Feldmoching - Hasenbergl', 'SV-Beschaeftigtendichte'].iloc[0]\n",
    "\n",
    "# Arbeitslosendichte\n",
    "struktur['Arbeitslosendichte'] = 0\n",
    "struktur.loc[struktur['Gebietsnummer'].isin(np.array(maxvorstadt.Name)), \n",
    "             'Arbeitslosendichte'] = arbeitslose.loc[\n",
    "    arbeitslose['Stadtbezirk'] == '03 Maxvorstadt', 'Arbeitslosendichte'].iloc[0]\n",
    "struktur.loc[struktur['Gebietsnummer'].isin(np.array(schwabing_west.Name)), \n",
    "             'Arbeitslosendichte'] = arbeitslose.loc[\n",
    "    arbeitslose['Stadtbezirk'] == '04 Schwabing West', 'Arbeitslosendichte'].iloc[0]\n",
    "struktur.loc[struktur['Gebietsnummer'].isin(np.array(moosach.Name)), \n",
    "             'Arbeitslosendichte'] = arbeitslose.loc[\n",
    "    arbeitslose['Stadtbezirk'] == '10 Moosach', 'Arbeitslosendichte'].iloc[0]\n",
    "struktur.loc[struktur['Gebietsnummer'].isin(np.array(milbertshofen.Name)), \n",
    "             'Arbeitslosendichte'] = arbeitslose.loc[\n",
    "    arbeitslose['Stadtbezirk'] == '11 Milbertshofen -  Am Hart', 'Arbeitslosendichte'].iloc[0]\n",
    "struktur.loc[struktur['Gebietsnummer'].isin(np.array(freimann.Name)), \n",
    "             'Arbeitslosendichte'] = arbeitslose.loc[\n",
    "    arbeitslose['Stadtbezirk'] == '12 Schwabing -  Freimann', 'Arbeitslosendichte'].iloc[0]\n",
    "struktur.loc[struktur['Gebietsnummer'].isin(np.array(hasenbergl.Name)), \n",
    "             'Arbeitslosendichte'] = arbeitslose.loc[\n",
    "    arbeitslose['Stadtbezirk'] == '24 Feldmoching - Hasenbergl', 'Arbeitslosendichte'].iloc[0]\n",
    "\n",
    "# ALG II - Empfängerdichte\n",
    "struktur['ALG II - Empfängerdichte'] = 0\n",
    "struktur.loc[struktur['Gebietsnummer'].isin(np.array(maxvorstadt.Name)), \n",
    "             'ALG II - Empfängerdichte'] = arbeitslose.loc[\n",
    "    arbeitslose['Stadtbezirk'] == '03 Maxvorstadt', 'ALG II- Empfaengerdichte'].iloc[0]\n",
    "struktur.loc[struktur['Gebietsnummer'].isin(np.array(schwabing_west.Name)), \n",
    "             'ALG II - Empfängerdichte'] = arbeitslose.loc[\n",
    "    arbeitslose['Stadtbezirk'] == '04 Schwabing West', 'ALG II- Empfaengerdichte'].iloc[0]\n",
    "struktur.loc[struktur['Gebietsnummer'].isin(np.array(moosach.Name)), \n",
    "             'ALG II - Empfängerdichte'] = arbeitslose.loc[\n",
    "    arbeitslose['Stadtbezirk'] == '10 Moosach', 'ALG II- Empfaengerdichte'].iloc[0]\n",
    "struktur.loc[struktur['Gebietsnummer'].isin(np.array(milbertshofen.Name)), \n",
    "             'ALG II - Empfängerdichte'] = arbeitslose.loc[\n",
    "    arbeitslose['Stadtbezirk'] == '11 Milbertshofen -  Am Hart', 'ALG II- Empfaengerdichte'].iloc[0]\n",
    "struktur.loc[struktur['Gebietsnummer'].isin(np.array(freimann.Name)), \n",
    "             'ALG II - Empfängerdichte'] = arbeitslose.loc[\n",
    "    arbeitslose['Stadtbezirk'] == '12 Schwabing -  Freimann', 'ALG II- Empfaengerdichte'].iloc[0]\n",
    "struktur.loc[struktur['Gebietsnummer'].isin(np.array(hasenbergl.Name)), \n",
    "             'ALG II - Empfängerdichte'] = arbeitslose.loc[\n",
    "    arbeitslose['Stadtbezirk'] == '24 Feldmoching - Hasenbergl', 'ALG II- Empfaengerdichte'].iloc[0]"
   ]
  },
  {
   "cell_type": "code",
   "execution_count": 232,
   "metadata": {},
   "outputs": [],
   "source": [
    "struktur.to_csv('../../Daten/strukturindikatoren_14.csv')"
   ]
  }
 ],
 "metadata": {
  "kernelspec": {
   "display_name": "Python 3",
   "language": "python",
   "name": "python3"
  },
  "language_info": {
   "codemirror_mode": {
    "name": "ipython",
    "version": 3
   },
   "file_extension": ".py",
   "mimetype": "text/x-python",
   "name": "python",
   "nbconvert_exporter": "python",
   "pygments_lexer": "ipython3",
   "version": "3.6.10"
  }
 },
 "nbformat": 4,
 "nbformat_minor": 2
}
